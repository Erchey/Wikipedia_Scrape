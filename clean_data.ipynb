{
 "cells": [
  {
   "cell_type": "code",
   "execution_count": null,
   "metadata": {},
   "outputs": [],
   "source": []
  },
  {
   "cell_type": "code",
   "execution_count": 10,
   "metadata": {},
   "outputs": [],
   "source": [
    "import pandas as pd"
   ]
  },
  {
   "cell_type": "code",
   "execution_count": 46,
   "metadata": {},
   "outputs": [],
   "source": [
    "df = pd.read_csv('universities.csv', encoding='latin-1')"
   ]
  },
  {
   "cell_type": "code",
   "execution_count": 47,
   "metadata": {},
   "outputs": [
    {
     "name": "stderr",
     "output_type": "stream",
     "text": [
      "<>:1: SyntaxWarning: invalid escape sequence '\\d'\n",
      "<>:1: SyntaxWarning: invalid escape sequence '\\d'\n",
      "C:\\Users\\Kingsley\\AppData\\Local\\Temp\\ipykernel_3764\\3688341910.py:1: SyntaxWarning: invalid escape sequence '\\d'\n",
      "  df['Founded'] = df[\"Founded\"].str.extract(\"(\\d{4})\")\n"
     ]
    }
   ],
   "source": [
    "df['Founded'] = df[\"Founded\"].str.extract(\"(\\d{4})\")"
   ]
  },
  {
   "cell_type": "code",
   "execution_count": 25,
   "metadata": {},
   "outputs": [],
   "source": [
    "df.Founded = df.Founded.astype(int)"
   ]
  },
  {
   "cell_type": "code",
   "execution_count": 14,
   "metadata": {},
   "outputs": [
    {
     "name": "stdout",
     "output_type": "stream",
     "text": [
      "<class 'pandas.core.frame.DataFrame'>\n",
      "RangeIndex: 69 entries, 0 to 68\n",
      "Data columns (total 6 columns):\n",
      " #   Column      Non-Null Count  Dtype \n",
      "---  ------      --------------  ----- \n",
      " 0   Country     69 non-null     object\n",
      " 1   University  69 non-null     object\n",
      " 2   Founded     69 non-null     int64 \n",
      " 3   Type        69 non-null     object\n",
      " 4   Enrollment  69 non-null     object\n",
      " 5   Link        69 non-null     object\n",
      "dtypes: int64(1), object(5)\n",
      "memory usage: 3.4+ KB\n"
     ]
    }
   ],
   "source": [
    "df.info()"
   ]
  },
  {
   "cell_type": "code",
   "execution_count": 50,
   "metadata": {},
   "outputs": [
    {
     "name": "stderr",
     "output_type": "stream",
     "text": [
      "<>:2: SyntaxWarning: invalid escape sequence '\\d'\n",
      "<>:2: SyntaxWarning: invalid escape sequence '\\d'\n",
      "C:\\Users\\Kingsley\\AppData\\Local\\Temp\\ipykernel_3764\\2239181894.py:2: SyntaxWarning: invalid escape sequence '\\d'\n",
      "  df[\"Enrollment\"] = df[\"Enrollment\"].str.extract(\"(\\d{1,3}(?:,\\d{1,3})*)\")\n"
     ]
    },
    {
     "data": {
      "text/plain": [
       "0       35000\n",
       "1       85000\n",
       "2       29827\n",
       "3      311175\n",
       "4       73807\n",
       "5       91000\n",
       "6     2097182\n",
       "7       25500\n",
       "8       55484\n",
       "9       30866\n",
       "10      32000\n",
       "11     215000\n",
       "12      18911\n",
       "13      84000\n",
       "14      80000\n",
       "15      53581\n",
       "16      42750\n",
       "17      72480\n",
       "18      43600\n",
       "19     170530\n",
       "20     170000\n",
       "21      36500\n",
       "22     350000\n",
       "23     130000\n",
       "24     104000\n",
       "25     124000\n",
       "26      32000\n",
       "27      13782\n",
       "28    7140000\n",
       "29    1045665\n",
       "30    1000000\n",
       "31      32900\n",
       "Name: Enrollment, dtype: object"
      ]
     },
     "execution_count": 50,
     "metadata": {},
     "output_type": "execute_result"
    }
   ],
   "source": [
    "df['Enrollment'] = df['Enrollment'].str.replace(' ', \",\")\n",
    "df[\"Enrollment\"] = df[\"Enrollment\"].str.extract(\"(\\d{1,3}(?:,\\d{1,3})*)\")\n",
    "df['Enrollment'] = df['Enrollment'].str.replace(',', '')\n",
    "df.Enrollment.head(32)"
   ]
  },
  {
   "cell_type": "code",
   "execution_count": 51,
   "metadata": {},
   "outputs": [],
   "source": [
    "df['Enrollment'] = df['Enrollment'].astype(int)"
   ]
  },
  {
   "cell_type": "code",
   "execution_count": 52,
   "metadata": {},
   "outputs": [
    {
     "data": {
      "text/html": [
       "<div>\n",
       "<style scoped>\n",
       "    .dataframe tbody tr th:only-of-type {\n",
       "        vertical-align: middle;\n",
       "    }\n",
       "\n",
       "    .dataframe tbody tr th {\n",
       "        vertical-align: top;\n",
       "    }\n",
       "\n",
       "    .dataframe thead th {\n",
       "        text-align: right;\n",
       "    }\n",
       "</style>\n",
       "<table border=\"1\" class=\"dataframe\">\n",
       "  <thead>\n",
       "    <tr style=\"text-align: right;\">\n",
       "      <th></th>\n",
       "      <th>Country</th>\n",
       "      <th>University</th>\n",
       "      <th>Founded</th>\n",
       "      <th>Type</th>\n",
       "      <th>Enrollment</th>\n",
       "      <th>Link</th>\n",
       "    </tr>\n",
       "  </thead>\n",
       "  <tbody>\n",
       "    <tr>\n",
       "      <th>0</th>\n",
       "      <td>Albania</td>\n",
       "      <td>University of Tirana</td>\n",
       "      <td>1957</td>\n",
       "      <td>Public</td>\n",
       "      <td>35000</td>\n",
       "      <td>https://en.wikipedia.org/wiki/University_of_Ti...</td>\n",
       "    </tr>\n",
       "    <tr>\n",
       "      <th>1</th>\n",
       "      <td>Algeria</td>\n",
       "      <td>Constantine University</td>\n",
       "      <td>1978</td>\n",
       "      <td>Public</td>\n",
       "      <td>85000</td>\n",
       "      <td>https://en.wikipedia.org/wiki/List_of_universi...</td>\n",
       "    </tr>\n",
       "    <tr>\n",
       "      <th>2</th>\n",
       "      <td>Angola</td>\n",
       "      <td>Agostinho Neto University</td>\n",
       "      <td>1962</td>\n",
       "      <td>Public</td>\n",
       "      <td>29827</td>\n",
       "      <td>https://en.wikipedia.org/wiki/Agostinho_Neto_U...</td>\n",
       "    </tr>\n",
       "    <tr>\n",
       "      <th>3</th>\n",
       "      <td>Argentina</td>\n",
       "      <td>University of Buenos Aires</td>\n",
       "      <td>1821</td>\n",
       "      <td>Public</td>\n",
       "      <td>311175</td>\n",
       "      <td>https://en.wikipedia.org/wiki/University_of_Bu...</td>\n",
       "    </tr>\n",
       "    <tr>\n",
       "      <th>4</th>\n",
       "      <td>Australia</td>\n",
       "      <td>Monash University</td>\n",
       "      <td>1958</td>\n",
       "      <td>Public</td>\n",
       "      <td>73807</td>\n",
       "      <td>https://en.wikipedia.org/wiki/Monash_University</td>\n",
       "    </tr>\n",
       "  </tbody>\n",
       "</table>\n",
       "</div>"
      ],
      "text/plain": [
       "     Country                  University Founded    Type  Enrollment  \\\n",
       "0    Albania        University of Tirana    1957  Public       35000   \n",
       "1    Algeria      Constantine University    1978  Public       85000   \n",
       "2     Angola   Agostinho Neto University    1962  Public       29827   \n",
       "3  Argentina  University of Buenos Aires    1821  Public      311175   \n",
       "4  Australia           Monash University    1958  Public       73807   \n",
       "\n",
       "                                                Link  \n",
       "0  https://en.wikipedia.org/wiki/University_of_Ti...  \n",
       "1  https://en.wikipedia.org/wiki/List_of_universi...  \n",
       "2  https://en.wikipedia.org/wiki/Agostinho_Neto_U...  \n",
       "3  https://en.wikipedia.org/wiki/University_of_Bu...  \n",
       "4    https://en.wikipedia.org/wiki/Monash_University  "
      ]
     },
     "execution_count": 52,
     "metadata": {},
     "output_type": "execute_result"
    }
   ],
   "source": [
    "df.head()"
   ]
  },
  {
   "cell_type": "code",
   "execution_count": 53,
   "metadata": {},
   "outputs": [],
   "source": [
    "df.to_csv('universities-clean.csv', index=False)"
   ]
  }
 ],
 "metadata": {
  "kernelspec": {
   "display_name": "venv",
   "language": "python",
   "name": "python3"
  },
  "language_info": {
   "codemirror_mode": {
    "name": "ipython",
    "version": 3
   },
   "file_extension": ".py",
   "mimetype": "text/x-python",
   "name": "python",
   "nbconvert_exporter": "python",
   "pygments_lexer": "ipython3",
   "version": "3.12.4"
  }
 },
 "nbformat": 4,
 "nbformat_minor": 2
}
