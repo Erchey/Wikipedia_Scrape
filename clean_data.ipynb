{
 "cells": [
  {
   "cell_type": "code",
   "execution_count": null,
   "metadata": {},
   "outputs": [],
   "source": []
  },
  {
   "cell_type": "code",
   "execution_count": 35,
   "metadata": {},
   "outputs": [],
   "source": [
    "import pandas as pd"
   ]
  },
  {
   "cell_type": "code",
   "execution_count": 36,
   "metadata": {},
   "outputs": [],
   "source": [
    "df = pd.read_csv('universities.csv', encoding='latin-1')"
   ]
  },
  {
   "cell_type": "code",
   "execution_count": 37,
   "metadata": {},
   "outputs": [
    {
     "name": "stderr",
     "output_type": "stream",
     "text": [
      "<>:1: SyntaxWarning: invalid escape sequence '\\d'\n",
      "<>:1: SyntaxWarning: invalid escape sequence '\\d'\n",
      "C:\\Users\\Kingsley\\AppData\\Local\\Temp\\ipykernel_10580\\3688341910.py:1: SyntaxWarning: invalid escape sequence '\\d'\n",
      "  df['Founded'] = df[\"Founded\"].str.extract(\"(\\d{4})\")\n"
     ]
    }
   ],
   "source": [
    "df['Founded'] = df[\"Founded\"].str.extract(\"(\\d{4})\")"
   ]
  },
  {
   "cell_type": "code",
   "execution_count": 38,
   "metadata": {},
   "outputs": [],
   "source": [
    "df.Founded = df.Founded.astype(int)"
   ]
  },
  {
   "cell_type": "code",
   "execution_count": 39,
   "metadata": {},
   "outputs": [
    {
     "name": "stdout",
     "output_type": "stream",
     "text": [
      "<class 'pandas.core.frame.DataFrame'>\n",
      "RangeIndex: 69 entries, 0 to 68\n",
      "Data columns (total 6 columns):\n",
      " #   Column      Non-Null Count  Dtype \n",
      "---  ------      --------------  ----- \n",
      " 0   Country     69 non-null     object\n",
      " 1   University  69 non-null     object\n",
      " 2   Founded     69 non-null     int64 \n",
      " 3   Type        69 non-null     object\n",
      " 4   Enrollment  69 non-null     object\n",
      " 5   Link        69 non-null     object\n",
      "dtypes: int64(1), object(5)\n",
      "memory usage: 3.4+ KB\n"
     ]
    }
   ],
   "source": [
    "df.info()"
   ]
  },
  {
   "cell_type": "code",
   "execution_count": 40,
   "metadata": {},
   "outputs": [
    {
     "name": "stderr",
     "output_type": "stream",
     "text": [
      "<>:2: SyntaxWarning: invalid escape sequence '\\d'\n",
      "<>:2: SyntaxWarning: invalid escape sequence '\\d'\n",
      "C:\\Users\\Kingsley\\AppData\\Local\\Temp\\ipykernel_10580\\3005435532.py:2: SyntaxWarning: invalid escape sequence '\\d'\n",
      "  df[\"Enrollment\"] = df[\"Enrollment\"].str.extract(\"(\\d{1,3}(?:,\\d{1,3})*)\")\n"
     ]
    },
    {
     "data": {
      "text/plain": [
       "0        35,000\n",
       "1        85,000\n",
       "2        29,827\n",
       "3       311,175\n",
       "4        73,807\n",
       "5        91,000\n",
       "6     2,097,182\n",
       "7        25,500\n",
       "8        55,484\n",
       "9        30,866\n",
       "10       32,000\n",
       "11      215,000\n",
       "12       18,911\n",
       "13       84,000\n",
       "14       80,000\n",
       "15       53,581\n",
       "16       42,750\n",
       "17       72,480\n",
       "18       43,600\n",
       "19      170,530\n",
       "20      170,000\n",
       "21       36,500\n",
       "22      350,000\n",
       "23      130,000\n",
       "24      104,000\n",
       "25      124,000\n",
       "26       32,000\n",
       "27       13,782\n",
       "28    7,140,000\n",
       "29    1,045,665\n",
       "30    1,000,000\n",
       "31       32,900\n",
       "Name: Enrollment, dtype: object"
      ]
     },
     "execution_count": 40,
     "metadata": {},
     "output_type": "execute_result"
    }
   ],
   "source": [
    "df['Enrollment'] = df['Enrollment'].str.replace(' ', \",\")\n",
    "df[\"Enrollment\"] = df[\"Enrollment\"].str.extract(\"(\\d{1,3}(?:,\\d{1,3})*)\")\n",
    "df.Enrollment.head(32)"
   ]
  },
  {
   "cell_type": "code",
   "execution_count": 46,
   "metadata": {},
   "outputs": [],
   "source": [
    "df['Enrollment'] = df['Enrollment'].astype(int)"
   ]
  },
  {
   "cell_type": "code",
   "execution_count": 49,
   "metadata": {},
   "outputs": [],
   "source": [
    "df.to_csv('universities-clean.csv', index='False')"
   ]
  }
 ],
 "metadata": {
  "kernelspec": {
   "display_name": "venv",
   "language": "python",
   "name": "python3"
  },
  "language_info": {
   "codemirror_mode": {
    "name": "ipython",
    "version": 3
   },
   "file_extension": ".py",
   "mimetype": "text/x-python",
   "name": "python",
   "nbconvert_exporter": "python",
   "pygments_lexer": "ipython3",
   "version": "3.12.4"
  }
 },
 "nbformat": 4,
 "nbformat_minor": 2
}
